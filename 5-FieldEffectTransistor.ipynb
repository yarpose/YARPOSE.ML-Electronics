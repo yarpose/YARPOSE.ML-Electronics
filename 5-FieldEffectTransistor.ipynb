version https://git-lfs.github.com/spec/v1
oid sha256:5e6ec77abef624be96d557dc0b77c09707f0a6d4f49d9f02249e3c557022a059
size 14130993
