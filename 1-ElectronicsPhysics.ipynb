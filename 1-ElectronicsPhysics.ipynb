version https://git-lfs.github.com/spec/v1
oid sha256:4f11615bd34c6fe8d6729f1f7347615795cf7c00344b9cd7a1d0249eaed9517f
size 16031942
