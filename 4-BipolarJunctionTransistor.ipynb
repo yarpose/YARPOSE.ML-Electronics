version https://git-lfs.github.com/spec/v1
oid sha256:75c350d2d452af0d789d75373c3c70af23be7facf52c794132d233819791f342
size 5767696
